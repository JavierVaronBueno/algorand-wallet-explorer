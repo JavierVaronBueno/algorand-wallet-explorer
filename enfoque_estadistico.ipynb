{
 "cells": [
  {
   "cell_type": "code",
   "execution_count": 2,
   "metadata": {},
   "outputs": [
    {
     "name": "stdout",
     "output_type": "stream",
     "text": [
      "Requirement already satisfied: pandas in c:\\users\\nabucodonosor\\documents\\bitlink\\repositorios\\explorer-wallets\\myenv\\lib\\site-packages (2.2.3)\n",
      "Requirement already satisfied: numpy in c:\\users\\nabucodonosor\\documents\\bitlink\\repositorios\\explorer-wallets\\myenv\\lib\\site-packages (2.2.1)\n",
      "Requirement already satisfied: py-algorand-sdk in c:\\users\\nabucodonosor\\documents\\bitlink\\repositorios\\explorer-wallets\\myenv\\lib\\site-packages (2.6.1)\n",
      "Collecting plotly\n",
      "  Downloading plotly-5.24.1-py3-none-any.whl.metadata (7.3 kB)\n",
      "Requirement already satisfied: ipython in c:\\users\\nabucodonosor\\documents\\bitlink\\repositorios\\explorer-wallets\\myenv\\lib\\site-packages (8.31.0)\n",
      "Requirement already satisfied: python-dateutil>=2.8.2 in c:\\users\\nabucodonosor\\documents\\bitlink\\repositorios\\explorer-wallets\\myenv\\lib\\site-packages (from pandas) (2.9.0.post0)\n",
      "Requirement already satisfied: pytz>=2020.1 in c:\\users\\nabucodonosor\\documents\\bitlink\\repositorios\\explorer-wallets\\myenv\\lib\\site-packages (from pandas) (2024.2)\n",
      "Requirement already satisfied: tzdata>=2022.7 in c:\\users\\nabucodonosor\\documents\\bitlink\\repositorios\\explorer-wallets\\myenv\\lib\\site-packages (from pandas) (2024.2)\n",
      "Requirement already satisfied: pynacl<2,>=1.4.0 in c:\\users\\nabucodonosor\\documents\\bitlink\\repositorios\\explorer-wallets\\myenv\\lib\\site-packages (from py-algorand-sdk) (1.5.0)\n",
      "Requirement already satisfied: pycryptodomex<4,>=3.6.0 in c:\\users\\nabucodonosor\\documents\\bitlink\\repositorios\\explorer-wallets\\myenv\\lib\\site-packages (from py-algorand-sdk) (3.21.0)\n",
      "Requirement already satisfied: msgpack<2,>=1.0.0 in c:\\users\\nabucodonosor\\documents\\bitlink\\repositorios\\explorer-wallets\\myenv\\lib\\site-packages (from py-algorand-sdk) (1.1.0)\n",
      "Collecting tenacity>=6.2.0 (from plotly)\n",
      "  Downloading tenacity-9.0.0-py3-none-any.whl.metadata (1.2 kB)\n",
      "Requirement already satisfied: packaging in c:\\users\\nabucodonosor\\documents\\bitlink\\repositorios\\explorer-wallets\\myenv\\lib\\site-packages (from plotly) (24.2)\n",
      "Requirement already satisfied: colorama in c:\\users\\nabucodonosor\\documents\\bitlink\\repositorios\\explorer-wallets\\myenv\\lib\\site-packages (from ipython) (0.4.6)\n",
      "Requirement already satisfied: decorator in c:\\users\\nabucodonosor\\documents\\bitlink\\repositorios\\explorer-wallets\\myenv\\lib\\site-packages (from ipython) (5.1.1)\n",
      "Requirement already satisfied: jedi>=0.16 in c:\\users\\nabucodonosor\\documents\\bitlink\\repositorios\\explorer-wallets\\myenv\\lib\\site-packages (from ipython) (0.19.2)\n",
      "Requirement already satisfied: matplotlib-inline in c:\\users\\nabucodonosor\\documents\\bitlink\\repositorios\\explorer-wallets\\myenv\\lib\\site-packages (from ipython) (0.1.7)\n",
      "Requirement already satisfied: prompt_toolkit<3.1.0,>=3.0.41 in c:\\users\\nabucodonosor\\documents\\bitlink\\repositorios\\explorer-wallets\\myenv\\lib\\site-packages (from ipython) (3.0.48)\n",
      "Requirement already satisfied: pygments>=2.4.0 in c:\\users\\nabucodonosor\\documents\\bitlink\\repositorios\\explorer-wallets\\myenv\\lib\\site-packages (from ipython) (2.18.0)\n",
      "Requirement already satisfied: stack_data in c:\\users\\nabucodonosor\\documents\\bitlink\\repositorios\\explorer-wallets\\myenv\\lib\\site-packages (from ipython) (0.6.3)\n",
      "Requirement already satisfied: traitlets>=5.13.0 in c:\\users\\nabucodonosor\\documents\\bitlink\\repositorios\\explorer-wallets\\myenv\\lib\\site-packages (from ipython) (5.14.3)\n",
      "Requirement already satisfied: parso<0.9.0,>=0.8.4 in c:\\users\\nabucodonosor\\documents\\bitlink\\repositorios\\explorer-wallets\\myenv\\lib\\site-packages (from jedi>=0.16->ipython) (0.8.4)\n",
      "Requirement already satisfied: wcwidth in c:\\users\\nabucodonosor\\documents\\bitlink\\repositorios\\explorer-wallets\\myenv\\lib\\site-packages (from prompt_toolkit<3.1.0,>=3.0.41->ipython) (0.2.13)\n",
      "Requirement already satisfied: cffi>=1.4.1 in c:\\users\\nabucodonosor\\documents\\bitlink\\repositorios\\explorer-wallets\\myenv\\lib\\site-packages (from pynacl<2,>=1.4.0->py-algorand-sdk) (1.17.1)\n",
      "Requirement already satisfied: six>=1.5 in c:\\users\\nabucodonosor\\documents\\bitlink\\repositorios\\explorer-wallets\\myenv\\lib\\site-packages (from python-dateutil>=2.8.2->pandas) (1.17.0)\n",
      "Requirement already satisfied: executing>=1.2.0 in c:\\users\\nabucodonosor\\documents\\bitlink\\repositorios\\explorer-wallets\\myenv\\lib\\site-packages (from stack_data->ipython) (2.1.0)\n",
      "Requirement already satisfied: asttokens>=2.1.0 in c:\\users\\nabucodonosor\\documents\\bitlink\\repositorios\\explorer-wallets\\myenv\\lib\\site-packages (from stack_data->ipython) (3.0.0)\n",
      "Requirement already satisfied: pure-eval in c:\\users\\nabucodonosor\\documents\\bitlink\\repositorios\\explorer-wallets\\myenv\\lib\\site-packages (from stack_data->ipython) (0.2.3)\n",
      "Requirement already satisfied: pycparser in c:\\users\\nabucodonosor\\documents\\bitlink\\repositorios\\explorer-wallets\\myenv\\lib\\site-packages (from cffi>=1.4.1->pynacl<2,>=1.4.0->py-algorand-sdk) (2.22)\n",
      "Downloading plotly-5.24.1-py3-none-any.whl (19.1 MB)\n",
      "   ---------------------------------------- 0.0/19.1 MB ? eta -:--:--\n",
      "   ---------------------------------------- 0.0/19.1 MB ? eta -:--:--\n",
      "   ---------------------------------------- 0.0/19.1 MB 435.7 kB/s eta 0:00:44\n",
      "   ---------------------------------------- 0.1/19.1 MB 980.4 kB/s eta 0:00:20\n",
      "   - -------------------------------------- 0.8/19.1 MB 5.7 MB/s eta 0:00:04\n",
      "   ---- ----------------------------------- 2.1/19.1 MB 11.1 MB/s eta 0:00:02\n",
      "   ------- -------------------------------- 3.6/19.1 MB 15.3 MB/s eta 0:00:02\n",
      "   ---------- ----------------------------- 5.2/19.1 MB 18.3 MB/s eta 0:00:01\n",
      "   ------------- -------------------------- 6.3/19.1 MB 19.3 MB/s eta 0:00:01\n",
      "   --------------- ------------------------ 7.2/19.1 MB 19.9 MB/s eta 0:00:01\n",
      "   ---------------- ----------------------- 7.9/19.1 MB 18.6 MB/s eta 0:00:01\n",
      "   ------------------ --------------------- 9.0/19.1 MB 19.1 MB/s eta 0:00:01\n",
      "   --------------------- ------------------ 10.2/19.1 MB 19.7 MB/s eta 0:00:01\n",
      "   ------------------------ --------------- 11.7/19.1 MB 27.3 MB/s eta 0:00:01\n",
      "   --------------------------- ------------ 12.9/19.1 MB 26.2 MB/s eta 0:00:01\n",
      "   ----------------------------- ---------- 14.0/19.1 MB 26.2 MB/s eta 0:00:01\n",
      "   -------------------------------- ------- 15.5/19.1 MB 25.2 MB/s eta 0:00:01\n",
      "   ----------------------------------- ---- 17.0/19.1 MB 26.2 MB/s eta 0:00:01\n",
      "   -------------------------------------- - 18.3/19.1 MB 28.4 MB/s eta 0:00:01\n",
      "   ---------------------------------------  19.0/19.1 MB 29.7 MB/s eta 0:00:01\n",
      "   ---------------------------------------  19.0/19.1 MB 29.7 MB/s eta 0:00:01\n",
      "   ---------------------------------------  19.0/19.1 MB 29.7 MB/s eta 0:00:01\n",
      "   ---------------------------------------  19.0/19.1 MB 29.7 MB/s eta 0:00:01\n",
      "   ---------------------------------------- 19.1/19.1 MB 18.7 MB/s eta 0:00:00\n",
      "Downloading tenacity-9.0.0-py3-none-any.whl (28 kB)\n",
      "Installing collected packages: tenacity, plotly\n",
      "Successfully installed plotly-5.24.1 tenacity-9.0.0\n"
     ]
    },
    {
     "name": "stderr",
     "output_type": "stream",
     "text": [
      "\n",
      "[notice] A new release of pip is available: 24.0 -> 24.3.1\n",
      "[notice] To update, run: python.exe -m pip install --upgrade pip\n"
     ]
    }
   ],
   "source": [
    "!pip install pandas numpy py-algorand-sdk plotly ipython"
   ]
  },
  {
   "cell_type": "code",
   "execution_count": 3,
   "metadata": {},
   "outputs": [],
   "source": [
    "# Import required libraries\n",
    "import pandas as pd\n",
    "import numpy as np\n",
    "from datetime import datetime, timedelta\n",
    "from algosdk.v2client import indexer\n",
    "import plotly.graph_objects as go\n",
    "from IPython.display import display, clear_output\n",
    "import logging\n",
    "from typing import Dict, List, Optional\n",
    "from dataclasses import dataclass\n",
    "import warnings\n",
    "warnings.filterwarnings('ignore')"
   ]
  },
  {
   "cell_type": "code",
   "execution_count": 20,
   "metadata": {},
   "outputs": [
    {
     "data": {
      "application/vnd.plotly.v1+json": {
       "config": {
        "plotlyServerURL": "https://plot.ly"
       },
       "data": [
        {
         "domain": {
          "column": 0,
          "row": 0
         },
         "mode": "number",
         "title": {
          "text": "Total Balance (ALGO)"
         },
         "type": "indicator",
         "value": 0
        },
        {
         "domain": {
          "column": 1,
          "row": 0
         },
         "mode": "number",
         "title": {
          "text": "Active Whales"
         },
         "type": "indicator",
         "value": 0
        },
        {
         "domain": {
          "column": 0,
          "row": 1
         },
         "gauge": {
          "axis": {
           "range": [
            0,
            100
           ]
          }
         },
         "mode": "gauge+number",
         "title": {
          "text": "Concentration Index (%)"
         },
         "type": "indicator",
         "value": 0
        }
       ],
       "layout": {
        "grid": {
         "columns": 2,
         "rows": 2
        },
        "height": 600,
        "template": {
         "data": {
          "bar": [
           {
            "error_x": {
             "color": "#2a3f5f"
            },
            "error_y": {
             "color": "#2a3f5f"
            },
            "marker": {
             "line": {
              "color": "#E5ECF6",
              "width": 0.5
             },
             "pattern": {
              "fillmode": "overlay",
              "size": 10,
              "solidity": 0.2
             }
            },
            "type": "bar"
           }
          ],
          "barpolar": [
           {
            "marker": {
             "line": {
              "color": "#E5ECF6",
              "width": 0.5
             },
             "pattern": {
              "fillmode": "overlay",
              "size": 10,
              "solidity": 0.2
             }
            },
            "type": "barpolar"
           }
          ],
          "carpet": [
           {
            "aaxis": {
             "endlinecolor": "#2a3f5f",
             "gridcolor": "white",
             "linecolor": "white",
             "minorgridcolor": "white",
             "startlinecolor": "#2a3f5f"
            },
            "baxis": {
             "endlinecolor": "#2a3f5f",
             "gridcolor": "white",
             "linecolor": "white",
             "minorgridcolor": "white",
             "startlinecolor": "#2a3f5f"
            },
            "type": "carpet"
           }
          ],
          "choropleth": [
           {
            "colorbar": {
             "outlinewidth": 0,
             "ticks": ""
            },
            "type": "choropleth"
           }
          ],
          "contour": [
           {
            "colorbar": {
             "outlinewidth": 0,
             "ticks": ""
            },
            "colorscale": [
             [
              0,
              "#0d0887"
             ],
             [
              0.1111111111111111,
              "#46039f"
             ],
             [
              0.2222222222222222,
              "#7201a8"
             ],
             [
              0.3333333333333333,
              "#9c179e"
             ],
             [
              0.4444444444444444,
              "#bd3786"
             ],
             [
              0.5555555555555556,
              "#d8576b"
             ],
             [
              0.6666666666666666,
              "#ed7953"
             ],
             [
              0.7777777777777778,
              "#fb9f3a"
             ],
             [
              0.8888888888888888,
              "#fdca26"
             ],
             [
              1,
              "#f0f921"
             ]
            ],
            "type": "contour"
           }
          ],
          "contourcarpet": [
           {
            "colorbar": {
             "outlinewidth": 0,
             "ticks": ""
            },
            "type": "contourcarpet"
           }
          ],
          "heatmap": [
           {
            "colorbar": {
             "outlinewidth": 0,
             "ticks": ""
            },
            "colorscale": [
             [
              0,
              "#0d0887"
             ],
             [
              0.1111111111111111,
              "#46039f"
             ],
             [
              0.2222222222222222,
              "#7201a8"
             ],
             [
              0.3333333333333333,
              "#9c179e"
             ],
             [
              0.4444444444444444,
              "#bd3786"
             ],
             [
              0.5555555555555556,
              "#d8576b"
             ],
             [
              0.6666666666666666,
              "#ed7953"
             ],
             [
              0.7777777777777778,
              "#fb9f3a"
             ],
             [
              0.8888888888888888,
              "#fdca26"
             ],
             [
              1,
              "#f0f921"
             ]
            ],
            "type": "heatmap"
           }
          ],
          "heatmapgl": [
           {
            "colorbar": {
             "outlinewidth": 0,
             "ticks": ""
            },
            "colorscale": [
             [
              0,
              "#0d0887"
             ],
             [
              0.1111111111111111,
              "#46039f"
             ],
             [
              0.2222222222222222,
              "#7201a8"
             ],
             [
              0.3333333333333333,
              "#9c179e"
             ],
             [
              0.4444444444444444,
              "#bd3786"
             ],
             [
              0.5555555555555556,
              "#d8576b"
             ],
             [
              0.6666666666666666,
              "#ed7953"
             ],
             [
              0.7777777777777778,
              "#fb9f3a"
             ],
             [
              0.8888888888888888,
              "#fdca26"
             ],
             [
              1,
              "#f0f921"
             ]
            ],
            "type": "heatmapgl"
           }
          ],
          "histogram": [
           {
            "marker": {
             "pattern": {
              "fillmode": "overlay",
              "size": 10,
              "solidity": 0.2
             }
            },
            "type": "histogram"
           }
          ],
          "histogram2d": [
           {
            "colorbar": {
             "outlinewidth": 0,
             "ticks": ""
            },
            "colorscale": [
             [
              0,
              "#0d0887"
             ],
             [
              0.1111111111111111,
              "#46039f"
             ],
             [
              0.2222222222222222,
              "#7201a8"
             ],
             [
              0.3333333333333333,
              "#9c179e"
             ],
             [
              0.4444444444444444,
              "#bd3786"
             ],
             [
              0.5555555555555556,
              "#d8576b"
             ],
             [
              0.6666666666666666,
              "#ed7953"
             ],
             [
              0.7777777777777778,
              "#fb9f3a"
             ],
             [
              0.8888888888888888,
              "#fdca26"
             ],
             [
              1,
              "#f0f921"
             ]
            ],
            "type": "histogram2d"
           }
          ],
          "histogram2dcontour": [
           {
            "colorbar": {
             "outlinewidth": 0,
             "ticks": ""
            },
            "colorscale": [
             [
              0,
              "#0d0887"
             ],
             [
              0.1111111111111111,
              "#46039f"
             ],
             [
              0.2222222222222222,
              "#7201a8"
             ],
             [
              0.3333333333333333,
              "#9c179e"
             ],
             [
              0.4444444444444444,
              "#bd3786"
             ],
             [
              0.5555555555555556,
              "#d8576b"
             ],
             [
              0.6666666666666666,
              "#ed7953"
             ],
             [
              0.7777777777777778,
              "#fb9f3a"
             ],
             [
              0.8888888888888888,
              "#fdca26"
             ],
             [
              1,
              "#f0f921"
             ]
            ],
            "type": "histogram2dcontour"
           }
          ],
          "mesh3d": [
           {
            "colorbar": {
             "outlinewidth": 0,
             "ticks": ""
            },
            "type": "mesh3d"
           }
          ],
          "parcoords": [
           {
            "line": {
             "colorbar": {
              "outlinewidth": 0,
              "ticks": ""
             }
            },
            "type": "parcoords"
           }
          ],
          "pie": [
           {
            "automargin": true,
            "type": "pie"
           }
          ],
          "scatter": [
           {
            "fillpattern": {
             "fillmode": "overlay",
             "size": 10,
             "solidity": 0.2
            },
            "type": "scatter"
           }
          ],
          "scatter3d": [
           {
            "line": {
             "colorbar": {
              "outlinewidth": 0,
              "ticks": ""
             }
            },
            "marker": {
             "colorbar": {
              "outlinewidth": 0,
              "ticks": ""
             }
            },
            "type": "scatter3d"
           }
          ],
          "scattercarpet": [
           {
            "marker": {
             "colorbar": {
              "outlinewidth": 0,
              "ticks": ""
             }
            },
            "type": "scattercarpet"
           }
          ],
          "scattergeo": [
           {
            "marker": {
             "colorbar": {
              "outlinewidth": 0,
              "ticks": ""
             }
            },
            "type": "scattergeo"
           }
          ],
          "scattergl": [
           {
            "marker": {
             "colorbar": {
              "outlinewidth": 0,
              "ticks": ""
             }
            },
            "type": "scattergl"
           }
          ],
          "scattermapbox": [
           {
            "marker": {
             "colorbar": {
              "outlinewidth": 0,
              "ticks": ""
             }
            },
            "type": "scattermapbox"
           }
          ],
          "scatterpolar": [
           {
            "marker": {
             "colorbar": {
              "outlinewidth": 0,
              "ticks": ""
             }
            },
            "type": "scatterpolar"
           }
          ],
          "scatterpolargl": [
           {
            "marker": {
             "colorbar": {
              "outlinewidth": 0,
              "ticks": ""
             }
            },
            "type": "scatterpolargl"
           }
          ],
          "scatterternary": [
           {
            "marker": {
             "colorbar": {
              "outlinewidth": 0,
              "ticks": ""
             }
            },
            "type": "scatterternary"
           }
          ],
          "surface": [
           {
            "colorbar": {
             "outlinewidth": 0,
             "ticks": ""
            },
            "colorscale": [
             [
              0,
              "#0d0887"
             ],
             [
              0.1111111111111111,
              "#46039f"
             ],
             [
              0.2222222222222222,
              "#7201a8"
             ],
             [
              0.3333333333333333,
              "#9c179e"
             ],
             [
              0.4444444444444444,
              "#bd3786"
             ],
             [
              0.5555555555555556,
              "#d8576b"
             ],
             [
              0.6666666666666666,
              "#ed7953"
             ],
             [
              0.7777777777777778,
              "#fb9f3a"
             ],
             [
              0.8888888888888888,
              "#fdca26"
             ],
             [
              1,
              "#f0f921"
             ]
            ],
            "type": "surface"
           }
          ],
          "table": [
           {
            "cells": {
             "fill": {
              "color": "#EBF0F8"
             },
             "line": {
              "color": "white"
             }
            },
            "header": {
             "fill": {
              "color": "#C8D4E3"
             },
             "line": {
              "color": "white"
             }
            },
            "type": "table"
           }
          ]
         },
         "layout": {
          "annotationdefaults": {
           "arrowcolor": "#2a3f5f",
           "arrowhead": 0,
           "arrowwidth": 1
          },
          "autotypenumbers": "strict",
          "coloraxis": {
           "colorbar": {
            "outlinewidth": 0,
            "ticks": ""
           }
          },
          "colorscale": {
           "diverging": [
            [
             0,
             "#8e0152"
            ],
            [
             0.1,
             "#c51b7d"
            ],
            [
             0.2,
             "#de77ae"
            ],
            [
             0.3,
             "#f1b6da"
            ],
            [
             0.4,
             "#fde0ef"
            ],
            [
             0.5,
             "#f7f7f7"
            ],
            [
             0.6,
             "#e6f5d0"
            ],
            [
             0.7,
             "#b8e186"
            ],
            [
             0.8,
             "#7fbc41"
            ],
            [
             0.9,
             "#4d9221"
            ],
            [
             1,
             "#276419"
            ]
           ],
           "sequential": [
            [
             0,
             "#0d0887"
            ],
            [
             0.1111111111111111,
             "#46039f"
            ],
            [
             0.2222222222222222,
             "#7201a8"
            ],
            [
             0.3333333333333333,
             "#9c179e"
            ],
            [
             0.4444444444444444,
             "#bd3786"
            ],
            [
             0.5555555555555556,
             "#d8576b"
            ],
            [
             0.6666666666666666,
             "#ed7953"
            ],
            [
             0.7777777777777778,
             "#fb9f3a"
            ],
            [
             0.8888888888888888,
             "#fdca26"
            ],
            [
             1,
             "#f0f921"
            ]
           ],
           "sequentialminus": [
            [
             0,
             "#0d0887"
            ],
            [
             0.1111111111111111,
             "#46039f"
            ],
            [
             0.2222222222222222,
             "#7201a8"
            ],
            [
             0.3333333333333333,
             "#9c179e"
            ],
            [
             0.4444444444444444,
             "#bd3786"
            ],
            [
             0.5555555555555556,
             "#d8576b"
            ],
            [
             0.6666666666666666,
             "#ed7953"
            ],
            [
             0.7777777777777778,
             "#fb9f3a"
            ],
            [
             0.8888888888888888,
             "#fdca26"
            ],
            [
             1,
             "#f0f921"
            ]
           ]
          },
          "colorway": [
           "#636efa",
           "#EF553B",
           "#00cc96",
           "#ab63fa",
           "#FFA15A",
           "#19d3f3",
           "#FF6692",
           "#B6E880",
           "#FF97FF",
           "#FECB52"
          ],
          "font": {
           "color": "#2a3f5f"
          },
          "geo": {
           "bgcolor": "white",
           "lakecolor": "white",
           "landcolor": "#E5ECF6",
           "showlakes": true,
           "showland": true,
           "subunitcolor": "white"
          },
          "hoverlabel": {
           "align": "left"
          },
          "hovermode": "closest",
          "mapbox": {
           "style": "light"
          },
          "paper_bgcolor": "white",
          "plot_bgcolor": "#E5ECF6",
          "polar": {
           "angularaxis": {
            "gridcolor": "white",
            "linecolor": "white",
            "ticks": ""
           },
           "bgcolor": "#E5ECF6",
           "radialaxis": {
            "gridcolor": "white",
            "linecolor": "white",
            "ticks": ""
           }
          },
          "scene": {
           "xaxis": {
            "backgroundcolor": "#E5ECF6",
            "gridcolor": "white",
            "gridwidth": 2,
            "linecolor": "white",
            "showbackground": true,
            "ticks": "",
            "zerolinecolor": "white"
           },
           "yaxis": {
            "backgroundcolor": "#E5ECF6",
            "gridcolor": "white",
            "gridwidth": 2,
            "linecolor": "white",
            "showbackground": true,
            "ticks": "",
            "zerolinecolor": "white"
           },
           "zaxis": {
            "backgroundcolor": "#E5ECF6",
            "gridcolor": "white",
            "gridwidth": 2,
            "linecolor": "white",
            "showbackground": true,
            "ticks": "",
            "zerolinecolor": "white"
           }
          },
          "shapedefaults": {
           "line": {
            "color": "#2a3f5f"
           }
          },
          "ternary": {
           "aaxis": {
            "gridcolor": "white",
            "linecolor": "white",
            "ticks": ""
           },
           "baxis": {
            "gridcolor": "white",
            "linecolor": "white",
            "ticks": ""
           },
           "bgcolor": "#E5ECF6",
           "caxis": {
            "gridcolor": "white",
            "linecolor": "white",
            "ticks": ""
           }
          },
          "title": {
           "x": 0.05
          },
          "xaxis": {
           "automargin": true,
           "gridcolor": "white",
           "linecolor": "white",
           "ticks": "",
           "title": {
            "standoff": 15
           },
           "zerolinecolor": "white",
           "zerolinewidth": 2
          },
          "yaxis": {
           "automargin": true,
           "gridcolor": "white",
           "linecolor": "white",
           "ticks": "",
           "title": {
            "standoff": 15
           },
           "zerolinecolor": "white",
           "zerolinewidth": 2
          }
         }
        }
       }
      }
     },
     "metadata": {},
     "output_type": "display_data"
    }
   ],
   "source": [
    "@dataclass\n",
    "class WhaleMetrics:\n",
    "    total_balance: float = 0\n",
    "    avg_balance: float = 0\n",
    "    std_balance: float = 0\n",
    "    total_volume: float = 0\n",
    "    active_whales: int = 0\n",
    "    avg_tx_size: float = 0\n",
    "    concentration: float = 0\n",
    "\n",
    "class WhaleMonitor:\n",
    "    def __init__(self, \n",
    "                 min_balance: float = 100_000, \n",
    "                 window_size: int = 24,\n",
    "                 indexer_address: str = \"https://mainnet-idx.algonode.cloud\",\n",
    "                 indexer_token: str = \"\"):\n",
    "        headers = {\n",
    "            \"X-API-Key\": indexer_token if indexer_token else \"B3SU4KcVKi94Jap2VXkK83xx38bsv95K5UZm2lab\"\n",
    "        }\n",
    "        self.client = indexer.IndexerClient(\n",
    "            indexer_token=\"\", \n",
    "            indexer_address=indexer_address,\n",
    "            headers=headers\n",
    "        )\n",
    "        self.min_balance = min_balance * 1_000_000\n",
    "        self.window_size = window_size\n",
    "        self.transactions_df = pd.DataFrame()\n",
    "        self._setup_logging()\n",
    "        \n",
    "    def _setup_logging(self):\n",
    "        logging.basicConfig(\n",
    "            level=logging.INFO,\n",
    "            format='%(asctime)s - %(levelname)s - %(message)s'\n",
    "        )\n",
    "        self.logger = logging.getLogger(__name__)\n",
    "\n",
    "    def _process_transaction(self, tx: dict) -> dict:\n",
    "        processed = {\n",
    "            'id': tx.get('id', ''),\n",
    "            'round': tx.get('confirmed-round', 0),\n",
    "            'timestamp': datetime.fromtimestamp(tx.get('round-time', 0)),\n",
    "            'sender': tx.get('sender', ''),\n",
    "            'amount': 0,\n",
    "            'receiver': ''\n",
    "        }\n",
    "        \n",
    "        if 'payment-transaction' in tx:\n",
    "            payment = tx['payment-transaction']\n",
    "            processed.update({\n",
    "                'amount': payment.get('amount', 0),\n",
    "                'receiver': payment.get('receiver', '')\n",
    "            })\n",
    "        \n",
    "        return processed\n",
    "\n",
    "    def fetch_transactions(self, start_time: datetime, end_time: datetime) -> pd.DataFrame:\n",
    "        try:\n",
    "            response = self.client.search_transactions(\n",
    "                min_amount=10_000_000,\n",
    "                limit=500,\n",
    "                start_time=start_time.isoformat() + 'Z',\n",
    "                end_time=end_time.isoformat() + 'Z'\n",
    "            )\n",
    "            \n",
    "            if not response.get(\"transactions\"):\n",
    "                return pd.DataFrame()\n",
    "            \n",
    "            processed_txs = [self._process_transaction(tx) for tx in response[\"transactions\"]]\n",
    "            return pd.DataFrame(processed_txs)\n",
    "            \n",
    "        except Exception as e:\n",
    "            self.logger.error(f\"Error fetching transactions: {e}\")\n",
    "            return pd.DataFrame()\n",
    "\n",
    "    def update_transactions_window(self, new_transactions: pd.DataFrame):\n",
    "        if new_transactions.empty:\n",
    "            return\n",
    "            \n",
    "        self.transactions_df = pd.concat(\n",
    "            [self.transactions_df, new_transactions],\n",
    "            ignore_index=True\n",
    "        )\n",
    "        \n",
    "        if not self.transactions_df.empty:\n",
    "            self.transactions_df = self.transactions_df.drop_duplicates(subset=['id'])\n",
    "            cutoff_time = datetime.utcnow() - timedelta(hours=self.window_size)\n",
    "            self.transactions_df = self.transactions_df[\n",
    "                self.transactions_df['timestamp'] >= cutoff_time\n",
    "            ]\n",
    "\n",
    "    def calculate_metrics(self) -> WhaleMetrics:\n",
    "        if self.transactions_df.empty:\n",
    "            return WhaleMetrics()\n",
    "\n",
    "        whale_txs = self.transactions_df[self.transactions_df['amount'] >= self.min_balance]\n",
    "        if whale_txs.empty:\n",
    "            return WhaleMetrics()\n",
    "\n",
    "        metrics = WhaleMetrics(\n",
    "            total_balance=whale_txs['amount'].sum() / 1_000_000,\n",
    "            avg_balance=whale_txs['amount'].mean() / 1_000_000,\n",
    "            std_balance=whale_txs['amount'].std() / 1_000_000,\n",
    "            total_volume=whale_txs['amount'].sum() / 1_000_000,\n",
    "            active_whales=len(whale_txs['sender'].unique()),\n",
    "            avg_tx_size=whale_txs['amount'].mean() / 1_000_000,\n",
    "            concentration=(whale_txs.groupby('sender')['amount'].sum() ** 2).sum() / (whale_txs['amount'].sum() ** 2)\n",
    "        )\n",
    "        \n",
    "        return metrics\n",
    "\n",
    "    def plot_metrics(self, metrics: WhaleMetrics):\n",
    "        fig = go.Figure()\n",
    "        \n",
    "        fig.add_trace(go.Indicator(\n",
    "            mode=\"number\",\n",
    "            value=metrics.total_balance,\n",
    "            title=\"Total Balance (ALGO)\",\n",
    "            domain={'row': 0, 'column': 0}\n",
    "        ))\n",
    "        \n",
    "        fig.add_trace(go.Indicator(\n",
    "            mode=\"number\",\n",
    "            value=metrics.active_whales,\n",
    "            title=\"Active Whales\",\n",
    "            domain={'row': 0, 'column': 1}\n",
    "        ))\n",
    "        \n",
    "        fig.add_trace(go.Indicator(\n",
    "            mode=\"gauge+number\",\n",
    "            value=metrics.concentration * 100,\n",
    "            title=\"Concentration Index (%)\",\n",
    "            domain={'row': 1, 'column': 0},\n",
    "            gauge={'axis': {'range': [0, 100]}}\n",
    "        ))\n",
    "        \n",
    "        fig.update_layout(\n",
    "            grid={'rows': 2, 'columns': 2},\n",
    "            height=600\n",
    "        )\n",
    "        \n",
    "        return fig\n",
    "    \n",
    "\n",
    "monitor = WhaleMonitor(min_balance=10_000)\n",
    "end_time = datetime.utcnow()\n",
    "start_time = end_time - timedelta(minutes=1)\n",
    "transactions = monitor.fetch_transactions(start_time, end_time)\n",
    "monitor.update_transactions_window(transactions)\n",
    "metrics = monitor.calculate_metrics()\n",
    "fig = monitor.plot_metrics(metrics)\n",
    "fig.show()"
   ]
  }
 ],
 "metadata": {
  "kernelspec": {
   "display_name": "myenv",
   "language": "python",
   "name": "python3"
  },
  "language_info": {
   "codemirror_mode": {
    "name": "ipython",
    "version": 3
   },
   "file_extension": ".py",
   "mimetype": "text/x-python",
   "name": "python",
   "nbconvert_exporter": "python",
   "pygments_lexer": "ipython3",
   "version": "3.12.3"
  }
 },
 "nbformat": 4,
 "nbformat_minor": 2
}
